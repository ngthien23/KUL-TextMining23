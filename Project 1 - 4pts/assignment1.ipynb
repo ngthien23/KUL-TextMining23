{
 "cells": [
  {
   "cell_type": "markdown",
   "metadata": {},
   "source": [
    "Character: Leonard"
   ]
  },
  {
   "cell_type": "code",
   "execution_count": 1,
   "metadata": {},
   "outputs": [],
   "source": [
    "#import dataset\n",
    "import pandas as pd\n",
    "path = 'Scripts TBBT.csv'\n",
    "df = pd.read_csv(path,sep=',',skipinitialspace=True,engine='python')"
   ]
  },
  {
   "cell_type": "code",
   "execution_count": 2,
   "metadata": {},
   "outputs": [],
   "source": [
    "# Remove every punctuation from the dataframe\n",
    "import string\n",
    "\n",
    "# Function to remove punctuations\n",
    "def remove_punctuations(text):\n",
    "\n",
    "    # Check if the value is a string, then remove punctuations\n",
    "    if isinstance(text, str):\n",
    "        return text.translate(str.maketrans('', '', string.punctuation))\n",
    "    else:\n",
    "        return text\n",
    "\n",
    "# Removing punctuations from string columns\n",
    "for column in df.columns:\n",
    "    df[column] = df[column].apply(remove_punctuations)"
   ]
  },
  {
   "cell_type": "code",
   "execution_count": 3,
   "metadata": {},
   "outputs": [],
   "source": [
    "# Filter for person_scene that contains Leonard\n",
    "df = df[df['person_scene'].str.contains('Leonard')]"
   ]
  },
  {
   "cell_type": "code",
   "execution_count": 4,
   "metadata": {},
   "outputs": [],
   "source": [
    "# Lowercase the whole dataframe\n",
    "df = df.apply(lambda x: x.astype(str).str.lower())"
   ]
  },
  {
   "cell_type": "code",
   "execution_count": 5,
   "metadata": {},
   "outputs": [
    {
     "name": "stderr",
     "output_type": "stream",
     "text": [
      "[nltk_data] Downloading package stopwords to\n",
      "[nltk_data]     C:\\Users\\camd1\\AppData\\Roaming\\nltk_data...\n",
      "[nltk_data]   Package stopwords is already up-to-date!\n"
     ]
    }
   ],
   "source": [
    "# Remove stopwords with NLTK for column dialogue\n",
    "import nltk\n",
    "from nltk.corpus import stopwords\n",
    "nltk.download('stopwords')\n",
    "stop = stopwords.words('english')\n",
    "df['dialogue'] = df['dialogue'].apply(lambda x: ' '.join([word for word in x.split() if word not in (stop)]))"
   ]
  },
  {
   "cell_type": "code",
   "execution_count": 6,
   "metadata": {},
   "outputs": [],
   "source": [
    "# Use the Porter stemmer to perform stemming on the used words in dialogue\n",
    "from nltk.stem import PorterStemmer\n",
    "porter = PorterStemmer()\n",
    "df['stem'] = df['dialogue'].apply(lambda x: ' '.join([porter.stem(word) for word in x.split()]))"
   ]
  },
  {
   "cell_type": "code",
   "execution_count": 7,
   "metadata": {},
   "outputs": [],
   "source": [
    "# Perform POS tagging & NER tagging on the dialogue column with Spacy\n",
    "import spacy\n",
    "nlp = spacy.load('en_core_web_sm')\n",
    "# Function to perform POS tagging and NER tagging\n",
    "def pos_ner_tagging(text):\n",
    "    doc = nlp(text)\n",
    "    pos_tags = [(token.text, token.pos_) for token in doc]\n",
    "    ner_tags = [(entity.text, entity.label_) for entity in doc.ents]\n",
    "    return pos_tags, ner_tags\n",
    "\n",
    "# Apply POS and NER tagging to the 'dialogue' column\n",
    "df[['POS_tags', 'NER_tags']] = df['dialogue'].apply(lambda x: pd.Series(pos_ner_tagging(x)))"
   ]
  },
  {
   "cell_type": "code",
   "execution_count": 8,
   "metadata": {},
   "outputs": [
    {
     "data": {
      "text/html": [
       "<div>\n",
       "<style scoped>\n",
       "    .dataframe tbody tr th:only-of-type {\n",
       "        vertical-align: middle;\n",
       "    }\n",
       "\n",
       "    .dataframe tbody tr th {\n",
       "        vertical-align: top;\n",
       "    }\n",
       "\n",
       "    .dataframe thead th {\n",
       "        text-align: right;\n",
       "    }\n",
       "</style>\n",
       "<table border=\"1\" class=\"dataframe\">\n",
       "  <thead>\n",
       "    <tr style=\"text-align: right;\">\n",
       "      <th></th>\n",
       "      <th>episode_name</th>\n",
       "      <th>dialogue</th>\n",
       "      <th>person_scene</th>\n",
       "    </tr>\n",
       "  </thead>\n",
       "  <tbody>\n",
       "    <tr>\n",
       "      <th>8190</th>\n",
       "      <td>Series 02 Episode 16 – The Cushion Saturation</td>\n",
       "      <td>Where are you going</td>\n",
       "      <td>Leonard</td>\n",
       "    </tr>\n",
       "    <tr>\n",
       "      <th>8025</th>\n",
       "      <td>Series 02 Episode 16 – The Cushion Saturation</td>\n",
       "      <td>Okay that should do it</td>\n",
       "      <td>Leonard</td>\n",
       "    </tr>\n",
       "    <tr>\n",
       "      <th>15849</th>\n",
       "      <td>Series 04 Episode 03 – The Zazzy Substitution</td>\n",
       "      <td>Surprise</td>\n",
       "      <td>Leonard</td>\n",
       "    </tr>\n",
       "    <tr>\n",
       "      <th>30453</th>\n",
       "      <td>Series 06 Episode 20 – The Tenure Turbulence</td>\n",
       "      <td>Oh that’s nice but itit’s just gonna be a roo...</td>\n",
       "      <td>Leonard</td>\n",
       "    </tr>\n",
       "    <tr>\n",
       "      <th>48151</th>\n",
       "      <td>Series 09 Episode 23 – The Line Substitution S...</td>\n",
       "      <td>So when the aliens brought you back they just...</td>\n",
       "      <td>Leonard</td>\n",
       "    </tr>\n",
       "    <tr>\n",
       "      <th>6497</th>\n",
       "      <td>Series 02 Episode 09 – The White Asparagus Tri...</td>\n",
       "      <td>Excuse me What the hell is wrong with you</td>\n",
       "      <td>Leonard</td>\n",
       "    </tr>\n",
       "    <tr>\n",
       "      <th>19060</th>\n",
       "      <td>Series 04 Episode 17 – The Toast Derivation</td>\n",
       "      <td>Can’t we make a onetime exception for tonight</td>\n",
       "      <td>Leonard</td>\n",
       "    </tr>\n",
       "    <tr>\n",
       "      <th>39529</th>\n",
       "      <td>Series 08 Episode 11 – The Clean Room Infiltra...</td>\n",
       "      <td>No admit that you contaminated the clean room</td>\n",
       "      <td>Leonard</td>\n",
       "    </tr>\n",
       "    <tr>\n",
       "      <th>4234</th>\n",
       "      <td>Series 01 Episode 17 – The Tangerine Factor</td>\n",
       "      <td>Yeah That’s the spirit</td>\n",
       "      <td>Leonard</td>\n",
       "    </tr>\n",
       "    <tr>\n",
       "      <th>25558</th>\n",
       "      <td>Series 05 Episode 22 – The Stag Convergence</td>\n",
       "      <td>Are you drinking whisky</td>\n",
       "      <td>Leonard</td>\n",
       "    </tr>\n",
       "  </tbody>\n",
       "</table>\n",
       "</div>"
      ],
      "text/plain": [
       "                                            episode_name  \\\n",
       "8190       Series 02 Episode 16 – The Cushion Saturation   \n",
       "8025       Series 02 Episode 16 – The Cushion Saturation   \n",
       "15849      Series 04 Episode 03 – The Zazzy Substitution   \n",
       "30453       Series 06 Episode 20 – The Tenure Turbulence   \n",
       "48151  Series 09 Episode 23 – The Line Substitution S...   \n",
       "6497   Series 02 Episode 09 – The White Asparagus Tri...   \n",
       "19060        Series 04 Episode 17 – The Toast Derivation   \n",
       "39529  Series 08 Episode 11 – The Clean Room Infiltra...   \n",
       "4234         Series 01 Episode 17 – The Tangerine Factor   \n",
       "25558        Series 05 Episode 22 – The Stag Convergence   \n",
       "\n",
       "                                                dialogue person_scene  \n",
       "8190                                 Where are you going      Leonard  \n",
       "8025                              Okay that should do it      Leonard  \n",
       "15849                                           Surprise      Leonard  \n",
       "30453   Oh that’s nice but itit’s just gonna be a roo...      Leonard  \n",
       "48151   So when the aliens brought you back they just...      Leonard  \n",
       "6497           Excuse me What the hell is wrong with you      Leonard  \n",
       "19060      Can’t we make a onetime exception for tonight      Leonard  \n",
       "39529      No admit that you contaminated the clean room      Leonard  \n",
       "4234                             Yeah That’s the spirit       Leonard  \n",
       "25558                            Are you drinking whisky      Leonard  "
      ]
     },
     "execution_count": 8,
     "metadata": {},
     "output_type": "execute_result"
    }
   ],
   "source": [
    "# Print random rows of the dataframe\n",
    "df.sample(10)"
   ]
  }
 ],
 "metadata": {
  "kernelspec": {
   "display_name": "textmining",
   "language": "python",
   "name": "python3"
  },
  "language_info": {
   "codemirror_mode": {
    "name": "ipython",
    "version": 3
   },
   "file_extension": ".py",
   "mimetype": "text/x-python",
   "name": "python",
   "nbconvert_exporter": "python",
   "pygments_lexer": "ipython3",
   "version": "3.12.0"
  }
 },
 "nbformat": 4,
 "nbformat_minor": 2
}
